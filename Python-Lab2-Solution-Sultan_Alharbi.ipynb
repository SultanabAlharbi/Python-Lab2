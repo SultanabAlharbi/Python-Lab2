{
 "cells": [
  {
   "cell_type": "code",
   "execution_count": 10,
   "id": "4e513926",
   "metadata": {},
   "outputs": [
    {
     "name": "stdout",
     "output_type": "stream",
     "text": [
      "Titanic - I recommended it, It is good\n"
     ]
    }
   ],
   "source": [
    "Movie=\"Titanic\"\n",
    "rate=3\n",
    "popularity=72.65\n",
    "if rate >=4 and popularity>80:\n",
    "    print(Movie,\"- Highly Recommended\")\n",
    "elif rate>=3 and popularity>70:\n",
    "    print(Movie,\"- I recommended it, It is good\")\n",
    "elif rate<=2 and popularity >60:\n",
    "    print(Movie,\"- You should check it out!\")\n",
    "else:\n",
    "    print(Movie,\"- Don't watch it, It is a waste of time\")\n",
    "    "
   ]
  },
  {
   "cell_type": "code",
   "execution_count": null,
   "id": "f4d91054",
   "metadata": {},
   "outputs": [],
   "source": []
  },
  {
   "cell_type": "code",
   "execution_count": null,
   "id": "94d78a56",
   "metadata": {},
   "outputs": [],
   "source": []
  }
 ],
 "metadata": {
  "kernelspec": {
   "display_name": "Python 3 (ipykernel)",
   "language": "python",
   "name": "python3"
  },
  "language_info": {
   "codemirror_mode": {
    "name": "ipython",
    "version": 3
   },
   "file_extension": ".py",
   "mimetype": "text/x-python",
   "name": "python",
   "nbconvert_exporter": "python",
   "pygments_lexer": "ipython3",
   "version": "3.9.12"
  }
 },
 "nbformat": 4,
 "nbformat_minor": 5
}
